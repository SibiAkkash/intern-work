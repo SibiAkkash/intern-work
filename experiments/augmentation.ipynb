{
 "cells": [
  {
   "cell_type": "code",
   "execution_count": 1,
   "metadata": {},
   "outputs": [],
   "source": [
    "import cv2\n",
    "import imgaug as ia\n",
    "import imgaug.augmenters as iaa\n"
   ]
  },
  {
   "cell_type": "code",
   "execution_count": 5,
   "metadata": {},
   "outputs": [],
   "source": [
    "def show_image(title: str, img):\n",
    "    cv2.imshow(title, img)\n",
    "    cv2.waitKey(0)\n",
    "    cv2.destroyAllWindows()"
   ]
  },
  {
   "cell_type": "code",
   "execution_count": 6,
   "metadata": {},
   "outputs": [],
   "source": [
    "ia.seed(1)\n",
    "img = cv2.imread(\"../cycle_imgs/test/rec_3_0003.jpg\")\n",
    "show_image(\"sdf\", img)\n"
   ]
  },
  {
   "cell_type": "code",
   "execution_count": 7,
   "metadata": {},
   "outputs": [],
   "source": [
    "seq = iaa.Sequential(\n",
    "    iaa.Affine(\n",
    "        scale={\"x\": (0.8, 1.2), \"y\": (0.8, 1.2)},\n",
    "        translate_percent={\"x\": (-0.2, 0.2), \"y\": (-0.2, 0.2)},\n",
    "        rotate=(-25, 25),\n",
    "        shear=(-8, 8)\n",
    "    )\n",
    ")\n",
    "\n",
    "img_aug = seq(image=img)\n",
    "img_aug\n",
    "show_image(\"sdf\", img_aug)"
   ]
  },
  {
   "cell_type": "code",
   "execution_count": 27,
   "metadata": {},
   "outputs": [],
   "source": [
    "# rotate_aug = iaa.Rotate(-20)\n",
    "rotate_aug = iaa.Rotate((-20, 20))\n",
    "for i in range(10):\n",
    "    img_rot = rotate_aug(image=img)\n",
    "    cv2.imshow(\"rot\", img_rot)\n",
    "    cv2.waitKey(0)\n",
    "# print(i)\n",
    "cv2.destroyAllWindows()"
   ]
  },
  {
   "cell_type": "code",
   "execution_count": 173,
   "metadata": {},
   "outputs": [],
   "source": [
    "def aug(img):\n",
    "    rot_steps = [-18 ,-15 ,-12 ,-9 ,-6 ,-3, 3 ,6 ,9 ,12 ,15 ,18]\n",
    "    x_translate_steps = [9, 18, 27, 36]\n",
    "    \n",
    "    images = []\n",
    "\n",
    "    for angle in rot_steps:\n",
    "        for x_trans in x_translate_steps:\n",
    "            aug = iaa.Sequential([\n",
    "                iaa.Rotate(angle),\n",
    "                iaa.TranslateX(px=x_trans)\n",
    "            ])\n",
    "            aug_img = aug(image=img)\n",
    "            images.append(aug_img)\n",
    "    \n",
    "    return images"
   ]
  },
  {
   "cell_type": "code",
   "execution_count": 174,
   "metadata": {},
   "outputs": [],
   "source": [
    "aug_images = aug(img)\n",
    "\n",
    "for x in aug_images:\n",
    "    cv2.imshow(\"rot\", x)\n",
    "    if cv2.waitKey(0) == ord('q'):\n",
    "        break\n",
    "    \n",
    "cv2.destroyAllWindows()"
   ]
  },
  {
   "cell_type": "code",
   "execution_count": 23,
   "metadata": {},
   "outputs": [],
   "source": [
    "from typing import Tuple\n",
    "import math\n",
    "\n",
    "def xywhn2xyxy(x: float, y: float, w: float, h: float, img_w: int, img_h: int) -> Tuple[int]:\n",
    "    \"\"\"Convert normalised YOLO labels (x, y, width, height) to VOC format (xmin, ymin, xmax, ymax)\"\"\"\n",
    "    x1 = round(img_w * (x - w / 2), 4)\n",
    "    x2 = round(img_w * (x + w / 2), 4)\n",
    "    y1 = round(img_h * (y - h / 2), 4)\n",
    "    y2 = round(img_h * (y + h / 2), 4)\n",
    "    return x1, y1, x2, y2"
   ]
  },
  {
   "cell_type": "code",
   "execution_count": 31,
   "metadata": {},
   "outputs": [],
   "source": [
    "def xyxy2xywhn(x1: float, y1: float, x2: float, y2: float, img_w: int, img_h: int) -> Tuple[int]:\n",
    "    \"\"\"Convert VOC format (xmin, ymin, xmax, ymax) to normalised YOLO labels (x, y, width, height)\"\"\"\n",
    "    x = round(((x1 + x2) / 2) / img_w, 6)\n",
    "    y = round(((y1 + y2) / 2) / img_h, 6)\n",
    "    w = round((x2 - x1) / img_w, 6)\n",
    "    h = round((y2 - y1) / img_h, 6)\n",
    "    return x, y , w, h\n"
   ]
  },
  {
   "cell_type": "code",
   "execution_count": 30,
   "metadata": {},
   "outputs": [
    {
     "data": {
      "text/plain": [
       "(0.446388, 0.27503, 0.120091, 0.045838)"
      ]
     },
     "execution_count": 30,
     "metadata": {},
     "output_type": "execute_result"
    }
   ],
   "source": [
    "xyxy2xywhn(139.0833, 161.3510, 182.3161, 190.6874, 360, 640)\n",
    "# desired output: 0.446388 0.27503 0.120091 0.045838"
   ]
  },
  {
   "cell_type": "code",
   "execution_count": 32,
   "metadata": {},
   "outputs": [
    {
     "data": {
      "text/plain": [
       "(185.7784, 156.9242, 236.4376, 199.2781)"
      ]
     },
     "execution_count": 32,
     "metadata": {},
     "output_type": "execute_result"
    }
   ],
   "source": [
    "xn, yn, wn, hn, = xyxy2xywhn(185.7784, 156.9244, 236.4376, 199.2780, 360, 640)\n",
    "xywhn2xyxy(xn, yn, wn, hn, 360, 640)\n",
    "# desired output: 185.7784, 156.9244, 236.4376, 199.2780"
   ]
  },
  {
   "cell_type": "code",
   "execution_count": 68,
   "metadata": {},
   "outputs": [],
   "source": [
    "from imgaug.augmentables.bbs import BoundingBox, BoundingBoxesOnImage\n",
    "\n",
    "\n",
    "def get_bboxes_from_file(file, img_shape):\n",
    "    h, w, _ = img_shape\n",
    "    with open(file) as f:\n",
    "        lines = list(map(lambda line: line.strip().split(), f.readlines()))\n",
    "        bboxes = []\n",
    "        \n",
    "        for line in lines:\n",
    "            label, cx_norm, cy_norm, w_norm, h_norm = map(float, line)\n",
    "            label = str(int(label))\n",
    "            # convert coords\n",
    "            x1, y1, x2, y2 = xywhn2xyxy(x=cx_norm, y=cy_norm, w=w_norm, h=h_norm, img_w=w, img_h=h)\n",
    "            # print(label, cx_norm, cy_norm, w_norm, h_norm)\n",
    "            # print(x1, y1, x2, y2)\n",
    "            bboxes.append(BoundingBox(x1=x1, y1=y1, x2=x2, y2=y2, label=label))\n",
    "            # bboxes.append(BoundingBox(x1=x1, y1=y1, x2=x2, y2=y2))\n",
    "            \n",
    "        bbs = BoundingBoxesOnImage(bboxes, shape=(h, w))\n",
    "\n",
    "    return bbs"
   ]
  },
  {
   "cell_type": "code",
   "execution_count": 25,
   "metadata": {},
   "outputs": [
    {
     "name": "stdout",
     "output_type": "stream",
     "text": [
      "1 0.446388 0.27503 0.120091 0.045838\n",
      "139.0833 161.351 182.3161 190.6874\n",
      "1 0.591591 0.124711 0.058147 0.024251\n",
      "202.5063 72.0547 223.4392 87.5754\n",
      "0 0.481895 0.350322 0.055399 0.027141\n",
      "163.5104 215.521 183.454 232.8912\n",
      "7 0.53372 0.482006 0.23768 0.230197\n",
      "149.3568 234.8208 234.9216 382.1469\n",
      "4 0.424273 0.216515 0.169935 0.165639\n",
      "122.15 85.5651 183.3266 191.5741\n",
      "BB 0: (139.0833, 161.3510, 182.3161, 190.6874) -> (185.7784, 156.9244, 236.4376, 199.2780)\n",
      "BB 1: (202.5063, 72.0547, 223.4392, 87.5754) -> (280.6429, 94.7052, 305.6218, 116.4494)\n",
      "BB 2: (163.5104, 215.5210, 183.4540, 232.8912) -> (194.2978, 216.1821, 218.9796, 239.3258)\n",
      "BB 3: (149.3568, 234.8208, 234.9216, 382.1469) -> (129.9493, 229.4771, 260.7424, 397.1833)\n",
      "BB 4: (122.1500, 85.5651, 183.3266, 191.5741) -> (169.5630, 79.9174, 263.3074, 200.4569)\n"
     ]
    }
   ],
   "source": [
    "img = cv2.imread(\"../cycle_imgs/test/rec_3_0003.jpg\")\n",
    "H, W, _ = img.shape\n",
    "\n",
    "bbs = get_bboxes_from_file(\"/home/sibi/Downloads/annot/rec_3_0003.txt\", img_h=H, img_w=W)\n",
    "\n",
    "seq = iaa.Sequential([\n",
    "    iaa.Multiply((1.2, 1.5)), # change brightness, doesn't affect BBs\n",
    "    iaa.Affine(rotate=20)\n",
    "])\n",
    "\n",
    "img_aug, bbs_aug = seq(image=img, bounding_boxes=bbs)\n",
    "\n",
    "for i in range(len(bbs.bounding_boxes)):\n",
    "    before = bbs.bounding_boxes[i]\n",
    "    after = bbs_aug.bounding_boxes[i]\n",
    "    print(\"BB %d: (%.4f, %.4f, %.4f, %.4f) -> (%.4f, %.4f, %.4f, %.4f)\" % (\n",
    "        i,\n",
    "        before.x1, before.y1, before.x2, before.y2,\n",
    "        after.x1, after.y1, after.x2, after.y2)\n",
    "    )\n",
    "\n",
    "image_before = bbs.draw_on_image(img, size=2)\n",
    "image_after = bbs_aug.draw_on_image(img_aug, size=2, color=[0, 0, 255])\n",
    "\n",
    "show_image(\"before\", image_before)\n",
    "show_image(\"after\", image_after)\n"
   ]
  },
  {
   "cell_type": "code",
   "execution_count": 16,
   "metadata": {},
   "outputs": [
    {
     "name": "stdout",
     "output_type": "stream",
     "text": [
      "BoundingBox(x1=185.9352, y1=156.5660, x2=236.2606, y2=198.5240, label=1)\n"
     ]
    },
    {
     "data": {
      "text/plain": [
       "(185.93523, 156.56604, 236.26059, 198.524, '1')"
      ]
     },
     "execution_count": 16,
     "metadata": {},
     "output_type": "execute_result"
    }
   ],
   "source": [
    "bbaug1 = bbs_aug.bounding_boxes[0]\n",
    "print(bbaug1)\n",
    "bbaug1.x1, bbaug1.y1, bbaug1.x2, bbaug1.y2, bbaug1.label"
   ]
  },
  {
   "cell_type": "code",
   "execution_count": 37,
   "metadata": {},
   "outputs": [],
   "source": [
    "with open('out_bbox.txt', 'w') as f:\n",
    "    for bbox in bbs_aug.bounding_boxes:\n",
    "        x, y, w, h = xyxy2xywhn(x1=bbox.x1, y1=bbox.y1, x2=bbox.x2, y2=bbox.y2, img_w=360, img_h=640)\n",
    "        label = bbox.label\n",
    "        line = f'{label} {x} {y} {w} {h}\\n'\n",
    "        f.write(line)\n"
   ]
  },
  {
   "cell_type": "code",
   "execution_count": 69,
   "metadata": {},
   "outputs": [],
   "source": [
    "def write_labels(label_path, bbs):\n",
    "    with open(label_path, 'w') as f:\n",
    "        for bbox in bbs.bounding_boxes:\n",
    "            x, y, w, h = xyxy2xywhn(x1=bbox.x1, y1=bbox.y1, x2=bbox.x2, y2=bbox.y2, img_w=360, img_h=640)\n",
    "            label = bbox.label\n",
    "            line = f'{label} {x} {y} {w} {h}\\n'\n",
    "            f.write(line)\n"
   ]
  },
  {
   "cell_type": "code",
   "execution_count": 94,
   "metadata": {},
   "outputs": [],
   "source": [
    "TRAIN_DIR = \"test_ds/train\"\n",
    "VAL_DIR = \"test_ds/val\"\n",
    "\n",
    "AUG_TRAIN_DIR = \"test_ds_aug/train\"\n",
    "AUG_VAL_DIR = \"test_ds_aug/val\""
   ]
  },
  {
   "cell_type": "code",
   "execution_count": 95,
   "metadata": {},
   "outputs": [],
   "source": [
    "rot_steps = [-18 ,-15 ,-12 ,-9 ,-6 ,-3, 3 ,6 ,9 ,12 ,15 ,18]\n",
    "x_translate_steps = [9, 18, 27, 36]\n",
    "\n",
    "def aug(img_path, label_path):\n",
    "    img = cv2.imread(img_path)\n",
    "    bbs = get_bboxes_from_file(label_path, img_shape=img.shape)\n",
    "    \n",
    "    count = 0\n",
    "    \n",
    "    img_name, ext = img_path.split('/')[-1].split('.')\n",
    "\n",
    "    aug_name = f'{img_name}_{count:02d}'\n",
    "    aug_img_path = f'{AUG_TRAIN_DIR}/images/{aug_name}.{ext}'\n",
    "    aug_label_path = f'{AUG_TRAIN_DIR}/labels/{aug_name}.txt'\n",
    "\n",
    "    # save original image\n",
    "    shutil.copy(img_path, f'{AUG_TRAIN_DIR}/images/')\n",
    "    shutil.move(f'{AUG_TRAIN_DIR}/images/{img_name}.{ext}', f'{AUG_TRAIN_DIR}/images/{aug_name}.{ext}')\n",
    "    # save original labels\n",
    "    shutil.copy(label_path, f'{AUG_TRAIN_DIR}/labels/')\n",
    "    shutil.move(f'{AUG_TRAIN_DIR}/labels/{img_name}.txt', f'{AUG_TRAIN_DIR}/labels/{aug_name}.txt')\n",
    "    \n",
    "\n",
    "    for angle in rot_steps:\n",
    "        for x_trans in x_translate_steps:\n",
    "            count += 1\n",
    "\n",
    "            aug = iaa.Sequential([\n",
    "                iaa.Rotate(angle),\n",
    "                iaa.TranslateX(px=x_trans)\n",
    "            ])\n",
    "            \n",
    "            # get augmented image and bboxes\n",
    "            img_aug, bbs_aug = aug(image=img, bounding_boxes=bbs)\n",
    "            \n",
    "            aug_name = f'{img_name}_{count:02d}'\n",
    "            aug_img_path = f'{AUG_TRAIN_DIR}/images/{aug_name}.{ext}'\n",
    "            aug_label_path = f'{AUG_TRAIN_DIR}/labels/{aug_name}.txt'\n",
    "            \n",
    "            # save image\n",
    "            cv2.imwrite(aug_img_path, img_aug)\n",
    "\n",
    "            # save labels\n",
    "            write_labels(aug_label_path, bbs_aug)\n"
   ]
  },
  {
   "cell_type": "code",
   "execution_count": 97,
   "metadata": {},
   "outputs": [
    {
     "name": "stderr",
     "output_type": "stream",
     "text": [
      "88it [01:50,  1.26s/it]\n"
     ]
    },
    {
     "data": {
      "text/plain": [
       "'test_ds_aug/train/labels/labels.txt'"
      ]
     },
     "execution_count": 97,
     "metadata": {},
     "output_type": "execute_result"
    }
   ],
   "source": [
    "import os\n",
    "import shutil\n",
    "from tqdm import tqdm\n",
    "\n",
    "for file in tqdm(os.scandir(f'{TRAIN_DIR}/images')):\n",
    "    name, ext = file.name.split('.')\n",
    "    label_path = f'{TRAIN_DIR}/labels/{name}.txt'\n",
    "    \n",
    "    aug(img_path=file.path, label_path=label_path)\n",
    "\n",
    "\n",
    "# copy labels.txt file\n",
    "shutil.copy(f\"{TRAIN_DIR}/labels/labels.txt\", f'{AUG_TRAIN_DIR}/labels')"
   ]
  }
 ],
 "metadata": {
  "interpreter": {
   "hash": "62659e2fd6b0ad30d50745f5f43349c7c0b93358b5cacabccf803046857d3f87"
  },
  "kernelspec": {
   "display_name": "Python 3.9.7 64-bit ('cuda': conda)",
   "language": "python",
   "name": "python3"
  },
  "language_info": {
   "codemirror_mode": {
    "name": "ipython",
    "version": 3
   },
   "file_extension": ".py",
   "mimetype": "text/x-python",
   "name": "python",
   "nbconvert_exporter": "python",
   "pygments_lexer": "ipython3",
   "version": "3.9.7"
  },
  "orig_nbformat": 4
 },
 "nbformat": 4,
 "nbformat_minor": 2
}
